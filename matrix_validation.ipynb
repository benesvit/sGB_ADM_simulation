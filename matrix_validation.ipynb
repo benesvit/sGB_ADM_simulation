{
 "cells": [
  {
   "cell_type": "markdown",
   "metadata": {},
   "source": [
    "# Test for consistency of arguments about matrix $M_{red}$ in the sGB ADM equations in spherical symmetry\n",
    "We show here that the matrix given in the thesis in equation (3.45) from chapter Numerical setup:\n",
    "\n",
    "\\begin{align}\n",
    "\\underbrace{\\begin{pmatrix}\n",
    "1 & M_{\\Phi K} & M^{rr}_{\\Phi A} - \\frac{\\gamma^{11}}{2\\gamma^{22}}  \\tilde{M}_{\\Phi A}  \\\\\n",
    "0 & M_{KK} & M^{rr}_{KA} - \\frac{\\gamma^{11}}{2\\gamma^{22}} \\tilde{M}_{KA}\\\\\n",
    "0 & M_{AK \\, rr} & M_{AA \\, rr}^{ \\ (rr)} - \\frac{\\gamma^{11}}{2\\gamma^{22}} \\tilde{M}_{AA \\, rr}\\\\\n",
    "0 & M_{AK \\, \\theta\\theta} & M_{AA \\, \\theta\\theta}^{ \\ (rr)} - \\frac{\\gamma^{11}}{2\\gamma^{22}} \\tilde{M}_{AA \\, \\theta\\theta} \\\\\n",
    "0 & M_{AK \\, \\phi\\phi} & M_{AA \\, \\phi\\phi}^{ \\ (rr)} - \\frac{\\gamma^{11}}{2\\gamma^{22}} \\tilde{M}_{AA \\, \\phi\\phi}\n",
    "\\end{pmatrix}}_{\\bar{M}^D_{\\text{red}}} \\begin{pmatrix}\\mathcal{L}_n K_{\\Phi} \\\\ \\mathcal{L}_n K \\\\ \\mathcal{L}_n A_{rr} \\end{pmatrix} = \n",
    "\\begin{pmatrix}\n",
    "    \\mathcal{S}^{\\Phi} \\\\\n",
    "    \\mathcal{S}^K \\\\\n",
    "    \\mathcal{S}^{A}_{rr} \\\\ \n",
    "    \\mathcal{S}^{A}_{\\theta\\theta} \\\\\n",
    "    \\mathcal{S}^{A}_{\\phi\\phi} \n",
    "\\end{pmatrix}\n",
    "+ \\frac{ A^{ij}A_{ij}}{\\gamma^{22}}\n",
    "\\begin{pmatrix}\n",
    "    \\tilde{M}_{\\Phi A} \\\\\n",
    "    \\tilde{M}_{K A}\\\\\n",
    "    \\tilde{M}_{AA \\, rr} \\\\\n",
    "    \\tilde{M}_{AA \\, \\theta \\theta}\\\\\n",
    "    \\tilde{M}_{AA \\, \\phi \\phi}\n",
    "\\end{pmatrix},\n",
    "\\end{align}\n",
    "where $\\tilde{M}$ symbols were defined as\n",
    "\\begin{align}\n",
    "    \\tilde{M}_{\\Phi A} &=  M^{\\theta\\theta}_{\\Phi A} + \\sin(\\theta)^2  M^{\\phi\\phi}_{\\Phi A},\\nonumber\\\\\n",
    "    \\tilde{M}_{KA} &= M^{\\theta\\theta}_{KA} + \\sin(\\theta)^2   M^{\\phi\\phi}_{KA},\\nonumber\\\\\n",
    "    \\tilde{M}_{AA, ii} &= M_{AA \\, ii}^{ \\ (\\theta\\theta)} + \\sin(\\theta)^2   M_{AA \\, ii}^{ \\ (\\phi\\phi)}, \\nonumber\n",
    "\\end{align}\n",
    "has a rows with simple linear dependency and they can be removed from the equations. Specifically, it holds that the fifth equation is a $\\sin(\\theta)^2$ multiple of the fourth equation and the fourth equation is a $-\\frac{\\gamma^{rr}A_{rr}}{2\\gamma^{\\theta\\theta}}$ multiple of third equation. "
   ]
  },
  {
   "cell_type": "code",
   "execution_count": 15,
   "metadata": {},
   "outputs": [],
   "source": [
    "import sys\n",
    "import os\n",
    "import sympy as sp\n",
    "import sGB_ADM_quantities as sGB\n",
    "\n",
    "sys.path.append('nrpy')\n",
    "\n",
    "# Import necessary NRPy+ modules:\n",
    "import indexedexp as ixp\n",
    "import reference_metric as rfm\n",
    "import NRPy_param_funcs as par\n",
    "\n",
    "DIM = 3\n",
    "\n",
    "sGB.set_simplify(False) # Disable simplify in sGB. It takes too long to simplify the expressions using SymPy.\n",
    "par.set_parval_from_str(\"reference_metric::CoordSystem\",\"Spherical\")\n",
    "rfm.reference_metric()"
   ]
  },
  {
   "cell_type": "markdown",
   "metadata": {},
   "source": [
    "Let the function $f(\\Phi)$ be unspecified."
   ]
  },
  {
   "cell_type": "code",
   "execution_count": 16,
   "metadata": {},
   "outputs": [],
   "source": [
    "Phi = sp.Symbol('Phi')\n",
    "f = sp.Function('f')(Phi)\n",
    "sGB.set_f(f)"
   ]
  },
  {
   "cell_type": "markdown",
   "metadata": {},
   "source": [
    "Setup the sGB ADM quantities as a general spherically symmetric data using:\n",
    "$$\\gamma_{ij} = \\mathrm{diag}\\left(\\gamma_{rr}, \\gamma_{\\theta\\theta},\\gamma_{\\theta\\theta} \\sin(\\theta)^2\\right),$$\n",
    "$$A_{ij} = \\mathrm{diag}\\left(A_{rr}, -\\frac{\\gamma^{rr}A_{rr}}{2\\gamma^{\\theta\\theta}}, -\\frac{\\gamma^{rr}A_{rr}}{2\\gamma^{\\theta\\theta}} \\sin(\\theta)^2\\right),$$\n",
    "$$\\beta^i = (\\beta^r,0,0),$$\n",
    "which are implemented in the sGB module."
   ]
  },
  {
   "cell_type": "code",
   "execution_count": 17,
   "metadata": {},
   "outputs": [],
   "source": [
    "sGB.setup_sGB_ADM_quantities(get_data_from='sphsym',rescaled=True)\n",
    "gammaDD = sGB.gammaDD\n",
    "gammaUU, _ = ixp.symm_matrix_inverter3x3(gammaDD)"
   ]
  },
  {
   "cell_type": "markdown",
   "metadata": {},
   "source": [
    "Calculate $M^D_{\\text{red}}$ and $S$ (expressions from equation (3.25)):"
   ]
  },
  {
   "cell_type": "code",
   "execution_count": 18,
   "metadata": {},
   "outputs": [],
   "source": [
    "Mred,S = sGB.calculate_mred_S()"
   ]
  },
  {
   "cell_type": "markdown",
   "metadata": {},
   "source": [
    "Calculate the reduced matrix:\n",
    "- `Mredsym` (`reduced`) is the first step, i.e. matrix from equation (3.41).\n",
    "    - last column of this matrix are the $\\tilde{M}$ expressions that appear on the RHS of (3.46)\n",
    "- `Mredsymsym` (`rereduced`) is the second step, i.e. matrix from equation (3.45). We use notation $\\bar{M}^D_{\\text{red}}$ in this notebook."
   ]
  },
  {
   "cell_type": "code",
   "execution_count": 19,
   "metadata": {},
   "outputs": [],
   "source": [
    "spMred = sp.Matrix(Mred)\n",
    "b = sp.sin(rfm.xx[1])**2\n",
    "Mredsym = []\n",
    "for i in range(5):\n",
    "    row = []\n",
    "    for j in range(4):\n",
    "        if j < 3:\n",
    "            row.append(spMred[i,j])\n",
    "        elif j == 3:\n",
    "            row.append(spMred[i,j] + b*spMred[i,j+1])\n",
    "        else:\n",
    "            raise Warning('Chyba v indexech')\n",
    "    Mredsym.append(row)\n",
    "    \n",
    "# Put into matrix for convenience.\n",
    "reduced = sp.Matrix(Mredsym)\n",
    "gammaUU,_ = ixp.symm_matrix_inverter3x3(gammaDD)\n",
    "Mredsymsym = []\n",
    "for i in range(5):\n",
    "    row = []\n",
    "    for j in range(3):\n",
    "        if j < 2:\n",
    "            row.append(reduced[i,j])\n",
    "        elif j == 2:\n",
    "            row.append(reduced[i,j] - gammaUU[0][0]*reduced[i,j+1]/(2*gammaUU[1][1]))\n",
    "        else:\n",
    "            raise Warning('Chyba v indexech')\n",
    "    Mredsymsym.append(row)\n",
    "\n",
    "# Put into matrix for convenience.\n",
    "rereduced = sp.Matrix(Mredsymsym)\n",
    "\n",
    "# Prepare for the test just by multiplication with some general vector of symbols.\n",
    "vec = sp.Matrix(sp.symbols('A, B, C'))\n",
    "\n",
    "# Multiply the \\tilde{M}^D_{red} by the (A,B,C)^T vector.\n",
    "M_vec = rereduced*vec"
   ]
  },
  {
   "cell_type": "markdown",
   "metadata": {},
   "source": [
    "Check that the last (5th) row of $\\bar{M}^D_{\\text{red}}$ is the same as the next-to-last row (4th) multiplied by $\\sin(\\theta)^2$:"
   ]
  },
  {
   "cell_type": "code",
   "execution_count": 20,
   "metadata": {},
   "outputs": [
    {
     "data": {
      "text/latex": [
       "$\\displaystyle 0$"
      ],
      "text/plain": [
       "0"
      ]
     },
     "execution_count": 20,
     "metadata": {},
     "output_type": "execute_result"
    }
   ],
   "source": [
    "sp.simplify(M_vec[3]*b - M_vec[4])"
   ]
  },
  {
   "cell_type": "markdown",
   "metadata": {},
   "source": [
    "Check that the next-to-last row (4th) of $\\bar{M}^D_{\\text{red}}$ is the same as the third row multiplied by $-\\frac{\\gamma^{rr}A_{rr}}{2\\gamma^{\\theta\\theta}}$:"
   ]
  },
  {
   "cell_type": "code",
   "execution_count": 21,
   "metadata": {},
   "outputs": [
    {
     "data": {
      "text/latex": [
       "$\\displaystyle 0$"
      ],
      "text/plain": [
       "0"
      ]
     },
     "execution_count": 21,
     "metadata": {},
     "output_type": "execute_result"
    }
   ],
   "source": [
    "sp.simplify(M_vec[2]*gammaUU[0][0]/(2*gammaUU[1][1]) + M_vec[3])"
   ]
  },
  {
   "cell_type": "markdown",
   "metadata": {},
   "source": [
    "Prepare the RHS from the equation given above. That is the expression:\n",
    "\n",
    " \\begin{align}\n",
    " \\begin{pmatrix} \n",
    " \\text{RHS}_{\\Phi} \\\\\n",
    "\\text{RHS}_{K}\\\\\n",
    "\\text{RHS}_{A_{rr}} \\\\\n",
    "\\text{RHS}_{A_{\\theta\\theta}}\\\\\n",
    "\\text{RHS}_{A_{\\phi\\phi}}\n",
    " \\end{pmatrix} = \\begin{pmatrix}\n",
    "    \\mathcal{S}^{\\Phi} \\\\\n",
    "    \\mathcal{S}^K \\\\\n",
    "    \\mathcal{S}^{A}_{rr} \\\\ \n",
    "    \\mathcal{S}^{A}_{\\theta\\theta} \\\\\n",
    "    \\mathcal{S}^{A}_{\\phi\\phi} \n",
    "\\end{pmatrix}\n",
    "+ \\frac{ A^{ij}A_{ij}}{\\gamma^{22}}\n",
    "\\begin{pmatrix}\n",
    "    \\tilde{M}_{\\Phi A} \\\\\n",
    "    \\tilde{M}_{K A}\\\\\n",
    "    \\tilde{M}_{AA \\, rr} \\\\\n",
    "    \\tilde{M}_{AA \\, \\theta \\theta}\\\\\n",
    "    \\tilde{M}_{AA \\, \\phi \\phi}\n",
    "\\end{pmatrix}  \\end{align}\n"
   ]
  },
  {
   "cell_type": "code",
   "execution_count": 22,
   "metadata": {},
   "outputs": [],
   "source": [
    "AA = sp.sympify(0)\n",
    "#  Tensors are diagonal here no need to loop all the zeros.\n",
    "for i in range(DIM):\n",
    "    AA += sGB.ADD[i][i]**2*gammaUU[i][i]**2\n",
    "\n",
    "factor = AA/gammaUU[1][1]\n",
    "\n",
    "# RHS_i vector\n",
    "S_RHS = sp.Matrix(S) - factor*reduced[:, -1]"
   ]
  },
  {
   "cell_type": "markdown",
   "metadata": {},
   "source": [
    "$\\text{RHS}_{A_{\\theta\\theta}} \\sin{\\theta}^2 - \\text{RHS}_{A_{\\phi\\phi}}$"
   ]
  },
  {
   "cell_type": "code",
   "execution_count": 24,
   "metadata": {},
   "outputs": [
    {
     "data": {
      "text/latex": [
       "$\\displaystyle 0$"
      ],
      "text/plain": [
       "0"
      ]
     },
     "execution_count": 24,
     "metadata": {},
     "output_type": "execute_result"
    }
   ],
   "source": [
    "sp.simplify(S_RHS[3]*b - S_RHS[4])"
   ]
  },
  {
   "cell_type": "markdown",
   "metadata": {},
   "source": [
    "$\\text{RHS}_{A_{rr}} \\frac{\\gamma^{rr}}{2\\gamma^{\\theta\\theta}} + \\text{RHS}_{A_{\\theta\\theta}}$"
   ]
  },
  {
   "cell_type": "code",
   "execution_count": 25,
   "metadata": {},
   "outputs": [
    {
     "data": {
      "text/latex": [
       "$\\displaystyle 0$"
      ],
      "text/plain": [
       "0"
      ]
     },
     "execution_count": 25,
     "metadata": {},
     "output_type": "execute_result"
    }
   ],
   "source": [
    "sp.simplify(S_RHS[2]*gammaUU[0][0]/(2*gammaUU[1][1]) + S_RHS[3])"
   ]
  }
 ],
 "metadata": {
  "kernelspec": {
   "display_name": "Python 3",
   "language": "python",
   "name": "python3"
  },
  "language_info": {
   "codemirror_mode": {
    "name": "ipython",
    "version": 3
   },
   "file_extension": ".py",
   "mimetype": "text/x-python",
   "name": "python",
   "nbconvert_exporter": "python",
   "pygments_lexer": "ipython3",
   "version": "3.12.4"
  }
 },
 "nbformat": 4,
 "nbformat_minor": 2
}
